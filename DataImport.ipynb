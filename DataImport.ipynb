{
 "cells": [
  {
   "cell_type": "code",
   "execution_count": 1,
   "id": "482b55f6",
   "metadata": {},
   "outputs": [],
   "source": [
    "import os\n",
    "import pandas as pd\n",
    "import re"
   ]
  },
  {
   "cell_type": "code",
   "execution_count": 2,
   "id": "bbf17be3",
   "metadata": {
    "scrolled": false
   },
   "outputs": [],
   "source": [
    "path = r'C:\\Users\\zzhan\\OneDrive\\Desktop\\CapstoneGoogle\\CyclisticBikeSharingProgram\\Data'\n",
    "file_extension = '.csv'\n",
    "csv_file_list = []\n",
    "for root, dirs, files in os.walk(path):\n",
    "    for name in files:\n",
    "        if '__MACOSX' in root:\n",
    "            pass\n",
    "        else:\n",
    "            if name.endswith(file_extension) and \"rip\" in name:\n",
    "                file_path = os.path.join(root, name)\n",
    "                csv_file_list.append(file_path)"
   ]
  },
  {
   "cell_type": "code",
   "execution_count": 3,
   "id": "81eaf062",
   "metadata": {},
   "outputs": [
    {
     "name": "stderr",
     "output_type": "stream",
     "text": [
      "C:\\ProgramData\\Anaconda3\\lib\\site-packages\\IPython\\core\\interactiveshell.py:3444: DtypeWarning: Columns (10) have mixed types.Specify dtype option on import or set low_memory=False.\n",
      "  exec(code_obj, self.user_global_ns, self.user_ns)\n"
     ]
    }
   ],
   "source": [
    "dfs=[]\n",
    "for i in range(len(csv_file_list)):\n",
    "    csv_file_name = re.compile(r'20\\d\\d')\n",
    "    data_year = csv_file_name.search(csv_file_list[i]).group()\n",
    "    df=pd.read_csv(csv_file_list[i])\n",
    "    df['data_year'] = data_year\n",
    "    dfs.append(df)"
   ]
  },
  {
   "cell_type": "code",
   "execution_count": null,
   "id": "4d31361f",
   "metadata": {
    "scrolled": false
   },
   "outputs": [],
   "source": [
    "for df in dfs:\n",
    "    display(df.head())"
   ]
  },
  {
   "cell_type": "code",
   "execution_count": 5,
   "id": "e6a53389",
   "metadata": {
    "scrolled": false
   },
   "outputs": [
    {
     "data": {
      "text/plain": [
       "{\"['ride_id', 'rideable_type', 'started_at', 'ended_at', 'start_station_name', 'start_station_id', 'end_station_name', 'end_station_id', 'start_lat', 'start_lng', 'end_lat', 'end_lng', 'member_casual', 'data_year']\": True,\n",
       " \"['trip_id', 'starttime', 'stoptime', 'bikeid', 'tripduration', 'from_station_id', 'from_station_name', 'to_station_id', 'to_station_name', 'usertype', 'gender', 'birthday', 'data_year']\": True,\n",
       " \"['trip_id', 'starttime', 'stoptime', 'bikeid', 'tripduration', 'from_station_id', 'from_station_name', 'to_station_id', 'to_station_name', 'usertype', 'gender', 'birthyear', 'data_year']\": True,\n",
       " \"['trip_id', 'start_time', 'end_time', 'bikeid', 'tripduration', 'from_station_id', 'from_station_name', 'to_station_id', 'to_station_name', 'usertype', 'gender', 'birthyear', 'data_year']\": True,\n",
       " \"['01 - Rental Details Rental ID', '01 - Rental Details Local Start Time', '01 - Rental Details Local End Time', '01 - Rental Details Bike ID', '01 - Rental Details Duration In Seconds Uncapped', '03 - Rental Start Station ID', '03 - Rental Start Station Name', '02 - Rental End Station ID', '02 - Rental End Station Name', 'User Type', 'Member Gender', '05 - Member Details Member Birthday Year', 'data_year']\": True}"
      ]
     },
     "execution_count": 5,
     "metadata": {},
     "output_type": "execute_result"
    }
   ],
   "source": [
    "df_cols={}\n",
    "for df in dfs:\n",
    "    df_cols[str(df.columns.tolist())]=True\n",
    "df_cols"
   ]
  },
  {
   "cell_type": "code",
   "execution_count": 6,
   "id": "b3f33520",
   "metadata": {},
   "outputs": [],
   "source": [
    "col_name_map={'trip_id':'ride_id',\n",
    "         'ride_id':'ride_id',\n",
    "         '01 - Rental Details Rental ID':'ride_id',\n",
    "         \n",
    "         'rideable_type':'rideable_type',\n",
    "         \n",
    "         'started_at':'start_time',\n",
    "         'starttime':'start_time',\n",
    "         'start_time':'start_time',\n",
    "         '01 - Rental Details Local Start Time':'start_time',\n",
    "         \n",
    "         'ended_at':'end_time',\n",
    "         'stoptime':'end_time',\n",
    "         'end_time':'end_time',\n",
    "         '01 - Rental Details Local End Time':'end_time',\n",
    "         \n",
    "         'tripduration':'trip_duration',\n",
    "         '01 - Rental Details Duration In Seconds Uncapped':'trip_duration',\n",
    "              \n",
    "         'bikeid':'bike_id',\n",
    "         '01 - Rental Details Bike ID':'bike_id',\n",
    "         \n",
    "         'start_station_name':'start_station_name',\n",
    "         'from_station_name':'start_station_name',\n",
    "         '03 - Rental Start Station Name':'start_station_name',\n",
    "         \n",
    "         'start_station_id':'start_station_id',\n",
    "         'from_station_id':'start_station_id',\n",
    "         '03 - Rental Start Station ID':'start_station_id',\n",
    "         \n",
    "         'end_station_name':'end_station_name',\n",
    "         'to_station_name':'end_station_name',\n",
    "         '02 - Rental End Station Name':'end_station_name',\n",
    "              \n",
    "         'end_station_id':'end_station_id',\n",
    "         'to_station_id':'end_station_id',\n",
    "         '02 - Rental End Station ID':'end_station_id',\n",
    "              \n",
    "         'gender':'gender',\n",
    "         'Member Gender':'gender',\n",
    "              \n",
    "         'birthday':'birth_year',\n",
    "         'birthyear':'birth_year',\n",
    "         '05 - Member Details Member Birthday Year':'birth_year',\n",
    "\n",
    "         'member_casual':'member_type',\n",
    "         'usertype':'member_type',\n",
    "         'User Type':'member_type',\n",
    "              \n",
    "         'data_year':'data_year',\n",
    "              \n",
    "         'start_lat':'start_lat',\n",
    "         'start_lng':'start_lng',\n",
    "         'end_lat':'end_lat', \n",
    "         'end_lng':'end_lng'\n",
    "        \n",
    "        }"
   ]
  },
  {
   "cell_type": "code",
   "execution_count": 7,
   "id": "5f42f29b",
   "metadata": {},
   "outputs": [],
   "source": [
    "selected_cols=list(set(col_name_map.values()))"
   ]
  },
  {
   "cell_type": "code",
   "execution_count": 8,
   "id": "d7995863",
   "metadata": {},
   "outputs": [
    {
     "data": {
      "text/plain": [
       "['ride_id',\n",
       " 'bike_id',\n",
       " 'member_type',\n",
       " 'start_lat',\n",
       " 'trip_duration',\n",
       " 'rideable_type',\n",
       " 'birth_year',\n",
       " 'start_time',\n",
       " 'data_year',\n",
       " 'start_station_name',\n",
       " 'gender',\n",
       " 'start_lng',\n",
       " 'end_station_id',\n",
       " 'end_lat',\n",
       " 'end_lng',\n",
       " 'start_station_id',\n",
       " 'end_time',\n",
       " 'end_station_name']"
      ]
     },
     "execution_count": 8,
     "metadata": {},
     "output_type": "execute_result"
    }
   ],
   "source": [
    "selected_cols"
   ]
  },
  {
   "cell_type": "code",
   "execution_count": null,
   "id": "dd54e295",
   "metadata": {
    "scrolled": true
   },
   "outputs": [],
   "source": [
    "for df in dfs:\n",
    "    df.rename(columns = col_name_map, inplace = True)\n",
    "    display(df.head())\n"
   ]
  },
  {
   "cell_type": "code",
   "execution_count": 10,
   "id": "b134f808",
   "metadata": {},
   "outputs": [],
   "source": [
    "df_all = pd.concat(dfs)"
   ]
  },
  {
   "cell_type": "code",
   "execution_count": 11,
   "id": "2d5e7273",
   "metadata": {},
   "outputs": [
    {
     "data": {
      "text/plain": [
       "(31067208, 18)"
      ]
     },
     "execution_count": 11,
     "metadata": {},
     "output_type": "execute_result"
    }
   ],
   "source": [
    "df_all.shape"
   ]
  },
  {
   "cell_type": "code",
   "execution_count": 12,
   "id": "a34957c9",
   "metadata": {},
   "outputs": [],
   "source": [
    "df_all_expected=df_all[selected_cols]"
   ]
  },
  {
   "cell_type": "code",
   "execution_count": 13,
   "id": "1512662e",
   "metadata": {},
   "outputs": [
    {
     "data": {
      "text/plain": [
       "(31067208, 18)"
      ]
     },
     "execution_count": 13,
     "metadata": {},
     "output_type": "execute_result"
    }
   ],
   "source": [
    "df_all_expected.shape"
   ]
  },
  {
   "cell_type": "code",
   "execution_count": 14,
   "id": "3755e946",
   "metadata": {},
   "outputs": [
    {
     "data": {
      "text/html": [
       "<div>\n",
       "<style scoped>\n",
       "    .dataframe tbody tr th:only-of-type {\n",
       "        vertical-align: middle;\n",
       "    }\n",
       "\n",
       "    .dataframe tbody tr th {\n",
       "        vertical-align: top;\n",
       "    }\n",
       "\n",
       "    .dataframe thead th {\n",
       "        text-align: right;\n",
       "    }\n",
       "</style>\n",
       "<table border=\"1\" class=\"dataframe\">\n",
       "  <thead>\n",
       "    <tr style=\"text-align: right;\">\n",
       "      <th></th>\n",
       "      <th>ride_id</th>\n",
       "      <th>bike_id</th>\n",
       "      <th>member_type</th>\n",
       "      <th>start_lat</th>\n",
       "      <th>trip_duration</th>\n",
       "      <th>rideable_type</th>\n",
       "      <th>birth_year</th>\n",
       "      <th>start_time</th>\n",
       "      <th>data_year</th>\n",
       "      <th>start_station_name</th>\n",
       "      <th>gender</th>\n",
       "      <th>start_lng</th>\n",
       "      <th>end_station_id</th>\n",
       "      <th>end_lat</th>\n",
       "      <th>end_lng</th>\n",
       "      <th>start_station_id</th>\n",
       "      <th>end_time</th>\n",
       "      <th>end_station_name</th>\n",
       "    </tr>\n",
       "  </thead>\n",
       "  <tbody>\n",
       "    <tr>\n",
       "      <th>0</th>\n",
       "      <td>A847FADBBC638E45</td>\n",
       "      <td>NaN</td>\n",
       "      <td>member</td>\n",
       "      <td>41.8964</td>\n",
       "      <td>NaN</td>\n",
       "      <td>docked_bike</td>\n",
       "      <td>NaN</td>\n",
       "      <td>2020-04-26 17:45:14</td>\n",
       "      <td>2020</td>\n",
       "      <td>Eckhart Park</td>\n",
       "      <td>NaN</td>\n",
       "      <td>-87.6610</td>\n",
       "      <td>152.0</td>\n",
       "      <td>41.9322</td>\n",
       "      <td>-87.6586</td>\n",
       "      <td>86</td>\n",
       "      <td>2020-04-26 18:12:03</td>\n",
       "      <td>Lincoln Ave &amp; Diversey Pkwy</td>\n",
       "    </tr>\n",
       "    <tr>\n",
       "      <th>1</th>\n",
       "      <td>5405B80E996FF60D</td>\n",
       "      <td>NaN</td>\n",
       "      <td>member</td>\n",
       "      <td>41.9244</td>\n",
       "      <td>NaN</td>\n",
       "      <td>docked_bike</td>\n",
       "      <td>NaN</td>\n",
       "      <td>2020-04-17 17:08:54</td>\n",
       "      <td>2020</td>\n",
       "      <td>Drake Ave &amp; Fullerton Ave</td>\n",
       "      <td>NaN</td>\n",
       "      <td>-87.7154</td>\n",
       "      <td>499.0</td>\n",
       "      <td>41.9306</td>\n",
       "      <td>-87.7238</td>\n",
       "      <td>503</td>\n",
       "      <td>2020-04-17 17:17:03</td>\n",
       "      <td>Kosciuszko Park</td>\n",
       "    </tr>\n",
       "    <tr>\n",
       "      <th>2</th>\n",
       "      <td>5DD24A79A4E006F4</td>\n",
       "      <td>NaN</td>\n",
       "      <td>member</td>\n",
       "      <td>41.8945</td>\n",
       "      <td>NaN</td>\n",
       "      <td>docked_bike</td>\n",
       "      <td>NaN</td>\n",
       "      <td>2020-04-01 17:54:13</td>\n",
       "      <td>2020</td>\n",
       "      <td>McClurg Ct &amp; Erie St</td>\n",
       "      <td>NaN</td>\n",
       "      <td>-87.6179</td>\n",
       "      <td>255.0</td>\n",
       "      <td>41.8679</td>\n",
       "      <td>-87.6230</td>\n",
       "      <td>142</td>\n",
       "      <td>2020-04-01 18:08:36</td>\n",
       "      <td>Indiana Ave &amp; Roosevelt Rd</td>\n",
       "    </tr>\n",
       "    <tr>\n",
       "      <th>3</th>\n",
       "      <td>2A59BBDF5CDBA725</td>\n",
       "      <td>NaN</td>\n",
       "      <td>member</td>\n",
       "      <td>41.9030</td>\n",
       "      <td>NaN</td>\n",
       "      <td>docked_bike</td>\n",
       "      <td>NaN</td>\n",
       "      <td>2020-04-07 12:50:19</td>\n",
       "      <td>2020</td>\n",
       "      <td>California Ave &amp; Division St</td>\n",
       "      <td>NaN</td>\n",
       "      <td>-87.6975</td>\n",
       "      <td>657.0</td>\n",
       "      <td>41.8992</td>\n",
       "      <td>-87.6722</td>\n",
       "      <td>216</td>\n",
       "      <td>2020-04-07 13:02:31</td>\n",
       "      <td>Wood St &amp; Augusta Blvd</td>\n",
       "    </tr>\n",
       "    <tr>\n",
       "      <th>4</th>\n",
       "      <td>27AD306C119C6158</td>\n",
       "      <td>NaN</td>\n",
       "      <td>casual</td>\n",
       "      <td>41.8902</td>\n",
       "      <td>NaN</td>\n",
       "      <td>docked_bike</td>\n",
       "      <td>NaN</td>\n",
       "      <td>2020-04-18 10:22:59</td>\n",
       "      <td>2020</td>\n",
       "      <td>Rush St &amp; Hubbard St</td>\n",
       "      <td>NaN</td>\n",
       "      <td>-87.6262</td>\n",
       "      <td>323.0</td>\n",
       "      <td>41.9695</td>\n",
       "      <td>-87.6547</td>\n",
       "      <td>125</td>\n",
       "      <td>2020-04-18 11:15:54</td>\n",
       "      <td>Sheridan Rd &amp; Lawrence Ave</td>\n",
       "    </tr>\n",
       "  </tbody>\n",
       "</table>\n",
       "</div>"
      ],
      "text/plain": [
       "            ride_id  bike_id member_type  start_lat trip_duration  \\\n",
       "0  A847FADBBC638E45      NaN      member    41.8964           NaN   \n",
       "1  5405B80E996FF60D      NaN      member    41.9244           NaN   \n",
       "2  5DD24A79A4E006F4      NaN      member    41.8945           NaN   \n",
       "3  2A59BBDF5CDBA725      NaN      member    41.9030           NaN   \n",
       "4  27AD306C119C6158      NaN      casual    41.8902           NaN   \n",
       "\n",
       "  rideable_type  birth_year           start_time data_year  \\\n",
       "0   docked_bike         NaN  2020-04-26 17:45:14      2020   \n",
       "1   docked_bike         NaN  2020-04-17 17:08:54      2020   \n",
       "2   docked_bike         NaN  2020-04-01 17:54:13      2020   \n",
       "3   docked_bike         NaN  2020-04-07 12:50:19      2020   \n",
       "4   docked_bike         NaN  2020-04-18 10:22:59      2020   \n",
       "\n",
       "             start_station_name gender  start_lng end_station_id  end_lat  \\\n",
       "0                  Eckhart Park    NaN   -87.6610          152.0  41.9322   \n",
       "1     Drake Ave & Fullerton Ave    NaN   -87.7154          499.0  41.9306   \n",
       "2          McClurg Ct & Erie St    NaN   -87.6179          255.0  41.8679   \n",
       "3  California Ave & Division St    NaN   -87.6975          657.0  41.8992   \n",
       "4          Rush St & Hubbard St    NaN   -87.6262          323.0  41.9695   \n",
       "\n",
       "   end_lng start_station_id             end_time             end_station_name  \n",
       "0 -87.6586               86  2020-04-26 18:12:03  Lincoln Ave & Diversey Pkwy  \n",
       "1 -87.7238              503  2020-04-17 17:17:03              Kosciuszko Park  \n",
       "2 -87.6230              142  2020-04-01 18:08:36   Indiana Ave & Roosevelt Rd  \n",
       "3 -87.6722              216  2020-04-07 13:02:31       Wood St & Augusta Blvd  \n",
       "4 -87.6547              125  2020-04-18 11:15:54   Sheridan Rd & Lawrence Ave  "
      ]
     },
     "execution_count": 14,
     "metadata": {},
     "output_type": "execute_result"
    }
   ],
   "source": [
    "df_all_expected.head()"
   ]
  },
  {
   "cell_type": "code",
   "execution_count": 15,
   "id": "5decfdc4",
   "metadata": {},
   "outputs": [],
   "source": [
    "df_all_expected.to_csv('df_all_before_cleaning.csv',index=False)"
   ]
  },
  {
   "cell_type": "code",
   "execution_count": null,
   "id": "c42bdad1",
   "metadata": {},
   "outputs": [],
   "source": []
  }
 ],
 "metadata": {
  "kernelspec": {
   "display_name": "Python 3 (ipykernel)",
   "language": "python",
   "name": "python3"
  },
  "language_info": {
   "codemirror_mode": {
    "name": "ipython",
    "version": 3
   },
   "file_extension": ".py",
   "mimetype": "text/x-python",
   "name": "python",
   "nbconvert_exporter": "python",
   "pygments_lexer": "ipython3",
   "version": "3.9.7"
  }
 },
 "nbformat": 4,
 "nbformat_minor": 5
}
